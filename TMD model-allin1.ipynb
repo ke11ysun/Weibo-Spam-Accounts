{
 "cells": [
  {
   "cell_type": "code",
   "execution_count": 1,
   "metadata": {
    "collapsed": true
   },
   "outputs": [],
   "source": [
    "import pandas as pd\n",
    "import numpy as np\n",
    "from matplotlib import pyplot as plt\n",
    "import seaborn as sns\n",
    "% matplotlib inline"
   ]
  },
  {
   "cell_type": "code",
   "execution_count": 2,
   "metadata": {
    "collapsed": true
   },
   "outputs": [],
   "source": [
    "data = pd.read_csv('all_in_1_w_more_feat.csv', header=0)"
   ]
  },
  {
   "cell_type": "code",
   "execution_count": 3,
   "metadata": {
    "collapsed": false
   },
   "outputs": [
    {
     "data": {
      "text/plain": [
       "Index([u'Unnamed: 0', u'attitudes_count', u'comments_count', u'id',\n",
       "       u'reposts_count', u'user.badge.anniversary', u'user.badge.asiad_2018',\n",
       "       u'user.badge.bind_taobao', u'user.badge.cz_wed_2017',\n",
       "       u'user.badge.dailv', u'user.badge.dailv_2018',\n",
       "       u'user.badge.denglong_2019', u'user.badge.double11_2018',\n",
       "       u'user.badge.dzwbqlx_2016', u'user.badge.follow_whitelist_video',\n",
       "       u'user.badge.fu_2019', u'user.badge.gongyi', u'user.badge.gongyi_level',\n",
       "       u'user.badge.hongbaofei_2019', u'user.badge.kpl_2018',\n",
       "       u'user.badge.league_badge', u'user.badge.lol_gm_2017',\n",
       "       u'user.badge.lol_msi_2017', u'user.badge.lol_s8',\n",
       "       u'user.badge.meilizhongguo_2018', u'user.badge.memorial_2018',\n",
       "       u'user.badge.national_day_2018', u'user.badge.panda',\n",
       "       u'user.badge.qixi_2018', u'user.badge.status_visible',\n",
       "       u'user.badge.suishoupai_2018', u'user.badge.super_star_2017',\n",
       "       u'user.badge.super_star_2018', u'user.badge.travel_2017',\n",
       "       u'user.badge.uefa_euro_2016', u'user.badge.unread_pool',\n",
       "       u'user.badge.unread_pool_ext', u'user.badge.user_name_certificate',\n",
       "       u'user.badge.vip_activity2', u'user.badge.wbzy_2018',\n",
       "       u'user.badge.wenchuan_10th', u'user.badge.wenda_v2',\n",
       "       u'user.badge.womensday_2018', u'user.badge.worldcup_2018',\n",
       "       u'user.badge.yiqijuan_2018', u'user.badge.zongyiji', u'followings_num',\n",
       "       u'followers_num', u'gender', u'vip_num', u'user.mbtype', u'posts_num',\n",
       "       u'user.urank', u'verified_cat', u'default_img_cat', u'default_name_cat',\n",
       "       u'garbled_name_cat', u'ch_name_cat', u'en_name_cat', u'vip_cat',\n",
       "       u'followers_cat', u'default_cont_cat', u'intro_cat', u'device_cat',\n",
       "       u'Effective'],\n",
       "      dtype='object')"
      ]
     },
     "execution_count": 3,
     "metadata": {},
     "output_type": "execute_result"
    }
   ],
   "source": [
    "data.columns"
   ]
  },
  {
   "cell_type": "code",
   "execution_count": 4,
   "metadata": {
    "collapsed": false
   },
   "outputs": [
    {
     "data": {
      "text/plain": [
       "Unnamed: 0                             int64\n",
       "attitudes_count                        int64\n",
       "comments_count                         int64\n",
       "id                                     int64\n",
       "reposts_count                          int64\n",
       "user.badge.anniversary               float64\n",
       "user.badge.asiad_2018                float64\n",
       "user.badge.bind_taobao               float64\n",
       "user.badge.cz_wed_2017               float64\n",
       "user.badge.dailv                     float64\n",
       "user.badge.dailv_2018                float64\n",
       "user.badge.denglong_2019             float64\n",
       "user.badge.double11_2018             float64\n",
       "user.badge.dzwbqlx_2016              float64\n",
       "user.badge.follow_whitelist_video    float64\n",
       "user.badge.fu_2019                   float64\n",
       "user.badge.gongyi                    float64\n",
       "user.badge.gongyi_level              float64\n",
       "user.badge.hongbaofei_2019           float64\n",
       "user.badge.kpl_2018                  float64\n",
       "user.badge.league_badge              float64\n",
       "user.badge.lol_gm_2017               float64\n",
       "user.badge.lol_msi_2017              float64\n",
       "user.badge.lol_s8                    float64\n",
       "user.badge.meilizhongguo_2018        float64\n",
       "user.badge.memorial_2018             float64\n",
       "user.badge.national_day_2018         float64\n",
       "user.badge.panda                     float64\n",
       "user.badge.qixi_2018                 float64\n",
       "user.badge.status_visible            float64\n",
       "                                      ...   \n",
       "user.badge.unread_pool               float64\n",
       "user.badge.unread_pool_ext           float64\n",
       "user.badge.user_name_certificate     float64\n",
       "user.badge.vip_activity2             float64\n",
       "user.badge.wbzy_2018                 float64\n",
       "user.badge.wenchuan_10th             float64\n",
       "user.badge.wenda_v2                  float64\n",
       "user.badge.womensday_2018            float64\n",
       "user.badge.worldcup_2018             float64\n",
       "user.badge.yiqijuan_2018             float64\n",
       "user.badge.zongyiji                  float64\n",
       "followings_num                         int64\n",
       "followers_num                          int64\n",
       "gender                                 int64\n",
       "vip_num                                int64\n",
       "user.mbtype                            int64\n",
       "posts_num                              int64\n",
       "user.urank                             int64\n",
       "verified_cat                           int64\n",
       "default_img_cat                        int64\n",
       "default_name_cat                     float64\n",
       "garbled_name_cat                     float64\n",
       "ch_name_cat                          float64\n",
       "en_name_cat                          float64\n",
       "vip_cat                              float64\n",
       "followers_cat                        float64\n",
       "default_cont_cat                     float64\n",
       "intro_cat                            float64\n",
       "device_cat                             int64\n",
       "Effective                              int64\n",
       "Length: 65, dtype: object"
      ]
     },
     "execution_count": 4,
     "metadata": {},
     "output_type": "execute_result"
    }
   ],
   "source": [
    "data.dtypes"
   ]
  },
  {
   "cell_type": "code",
   "execution_count": 5,
   "metadata": {
    "collapsed": false
   },
   "outputs": [
    {
     "data": {
      "text/html": [
       "<div>\n",
       "<style scoped>\n",
       "    .dataframe tbody tr th:only-of-type {\n",
       "        vertical-align: middle;\n",
       "    }\n",
       "\n",
       "    .dataframe tbody tr th {\n",
       "        vertical-align: top;\n",
       "    }\n",
       "\n",
       "    .dataframe thead th {\n",
       "        text-align: right;\n",
       "    }\n",
       "</style>\n",
       "<table border=\"1\" class=\"dataframe\">\n",
       "  <thead>\n",
       "    <tr style=\"text-align: right;\">\n",
       "      <th></th>\n",
       "      <th>Unnamed: 0</th>\n",
       "      <th>attitudes_count</th>\n",
       "      <th>comments_count</th>\n",
       "      <th>id</th>\n",
       "      <th>reposts_count</th>\n",
       "      <th>user.badge.anniversary</th>\n",
       "      <th>user.badge.asiad_2018</th>\n",
       "      <th>user.badge.bind_taobao</th>\n",
       "      <th>user.badge.cz_wed_2017</th>\n",
       "      <th>user.badge.dailv</th>\n",
       "      <th>...</th>\n",
       "      <th>default_name_cat</th>\n",
       "      <th>garbled_name_cat</th>\n",
       "      <th>ch_name_cat</th>\n",
       "      <th>en_name_cat</th>\n",
       "      <th>vip_cat</th>\n",
       "      <th>followers_cat</th>\n",
       "      <th>default_cont_cat</th>\n",
       "      <th>intro_cat</th>\n",
       "      <th>device_cat</th>\n",
       "      <th>Effective</th>\n",
       "    </tr>\n",
       "  </thead>\n",
       "  <tbody>\n",
       "    <tr>\n",
       "      <th>0</th>\n",
       "      <td>0</td>\n",
       "      <td>0</td>\n",
       "      <td>0</td>\n",
       "      <td>4327742222747234</td>\n",
       "      <td>0</td>\n",
       "      <td>0.0</td>\n",
       "      <td>0.0</td>\n",
       "      <td>1.0</td>\n",
       "      <td>0.0</td>\n",
       "      <td>0.0</td>\n",
       "      <td>...</td>\n",
       "      <td>0.0</td>\n",
       "      <td>0.0</td>\n",
       "      <td>0.0</td>\n",
       "      <td>0.0</td>\n",
       "      <td>1.0</td>\n",
       "      <td>0.0</td>\n",
       "      <td>0.0</td>\n",
       "      <td>0.0</td>\n",
       "      <td>0</td>\n",
       "      <td>1</td>\n",
       "    </tr>\n",
       "    <tr>\n",
       "      <th>1</th>\n",
       "      <td>1</td>\n",
       "      <td>0</td>\n",
       "      <td>0</td>\n",
       "      <td>4324519222687127</td>\n",
       "      <td>0</td>\n",
       "      <td>0.0</td>\n",
       "      <td>0.0</td>\n",
       "      <td>0.0</td>\n",
       "      <td>0.0</td>\n",
       "      <td>0.0</td>\n",
       "      <td>...</td>\n",
       "      <td>0.0</td>\n",
       "      <td>1.0</td>\n",
       "      <td>0.0</td>\n",
       "      <td>0.0</td>\n",
       "      <td>1.0</td>\n",
       "      <td>0.0</td>\n",
       "      <td>0.0</td>\n",
       "      <td>1.0</td>\n",
       "      <td>0</td>\n",
       "      <td>1</td>\n",
       "    </tr>\n",
       "    <tr>\n",
       "      <th>2</th>\n",
       "      <td>2</td>\n",
       "      <td>0</td>\n",
       "      <td>0</td>\n",
       "      <td>4324171619849135</td>\n",
       "      <td>0</td>\n",
       "      <td>0.0</td>\n",
       "      <td>0.0</td>\n",
       "      <td>0.0</td>\n",
       "      <td>0.0</td>\n",
       "      <td>0.0</td>\n",
       "      <td>...</td>\n",
       "      <td>0.0</td>\n",
       "      <td>0.0</td>\n",
       "      <td>0.0</td>\n",
       "      <td>0.0</td>\n",
       "      <td>0.0</td>\n",
       "      <td>0.0</td>\n",
       "      <td>0.0</td>\n",
       "      <td>1.0</td>\n",
       "      <td>0</td>\n",
       "      <td>1</td>\n",
       "    </tr>\n",
       "    <tr>\n",
       "      <th>3</th>\n",
       "      <td>3</td>\n",
       "      <td>0</td>\n",
       "      <td>0</td>\n",
       "      <td>4323656345349198</td>\n",
       "      <td>0</td>\n",
       "      <td>0.0</td>\n",
       "      <td>0.0</td>\n",
       "      <td>0.0</td>\n",
       "      <td>0.0</td>\n",
       "      <td>0.0</td>\n",
       "      <td>...</td>\n",
       "      <td>0.0</td>\n",
       "      <td>0.0</td>\n",
       "      <td>0.0</td>\n",
       "      <td>0.0</td>\n",
       "      <td>0.0</td>\n",
       "      <td>0.0</td>\n",
       "      <td>0.0</td>\n",
       "      <td>1.0</td>\n",
       "      <td>0</td>\n",
       "      <td>1</td>\n",
       "    </tr>\n",
       "    <tr>\n",
       "      <th>4</th>\n",
       "      <td>4</td>\n",
       "      <td>0</td>\n",
       "      <td>0</td>\n",
       "      <td>4323336907448716</td>\n",
       "      <td>0</td>\n",
       "      <td>0.0</td>\n",
       "      <td>0.0</td>\n",
       "      <td>0.0</td>\n",
       "      <td>0.0</td>\n",
       "      <td>0.0</td>\n",
       "      <td>...</td>\n",
       "      <td>0.0</td>\n",
       "      <td>0.0</td>\n",
       "      <td>0.0</td>\n",
       "      <td>0.0</td>\n",
       "      <td>0.0</td>\n",
       "      <td>0.0</td>\n",
       "      <td>0.0</td>\n",
       "      <td>1.0</td>\n",
       "      <td>0</td>\n",
       "      <td>1</td>\n",
       "    </tr>\n",
       "  </tbody>\n",
       "</table>\n",
       "<p>5 rows × 65 columns</p>\n",
       "</div>"
      ],
      "text/plain": [
       "   Unnamed: 0  attitudes_count  comments_count                id  \\\n",
       "0           0                0               0  4327742222747234   \n",
       "1           1                0               0  4324519222687127   \n",
       "2           2                0               0  4324171619849135   \n",
       "3           3                0               0  4323656345349198   \n",
       "4           4                0               0  4323336907448716   \n",
       "\n",
       "   reposts_count  user.badge.anniversary  user.badge.asiad_2018  \\\n",
       "0              0                     0.0                    0.0   \n",
       "1              0                     0.0                    0.0   \n",
       "2              0                     0.0                    0.0   \n",
       "3              0                     0.0                    0.0   \n",
       "4              0                     0.0                    0.0   \n",
       "\n",
       "   user.badge.bind_taobao  user.badge.cz_wed_2017  user.badge.dailv  ...  \\\n",
       "0                     1.0                     0.0               0.0  ...   \n",
       "1                     0.0                     0.0               0.0  ...   \n",
       "2                     0.0                     0.0               0.0  ...   \n",
       "3                     0.0                     0.0               0.0  ...   \n",
       "4                     0.0                     0.0               0.0  ...   \n",
       "\n",
       "   default_name_cat  garbled_name_cat  ch_name_cat  en_name_cat  vip_cat  \\\n",
       "0               0.0               0.0          0.0          0.0      1.0   \n",
       "1               0.0               1.0          0.0          0.0      1.0   \n",
       "2               0.0               0.0          0.0          0.0      0.0   \n",
       "3               0.0               0.0          0.0          0.0      0.0   \n",
       "4               0.0               0.0          0.0          0.0      0.0   \n",
       "\n",
       "   followers_cat  default_cont_cat  intro_cat  device_cat  Effective  \n",
       "0            0.0               0.0        0.0           0          1  \n",
       "1            0.0               0.0        1.0           0          1  \n",
       "2            0.0               0.0        1.0           0          1  \n",
       "3            0.0               0.0        1.0           0          1  \n",
       "4            0.0               0.0        1.0           0          1  \n",
       "\n",
       "[5 rows x 65 columns]"
      ]
     },
     "execution_count": 5,
     "metadata": {},
     "output_type": "execute_result"
    }
   ],
   "source": [
    "data.head()"
   ]
  },
  {
   "cell_type": "code",
   "execution_count": 6,
   "metadata": {
    "collapsed": false
   },
   "outputs": [
    {
     "data": {
      "text/plain": [
       "Unnamed: 0                           False\n",
       "attitudes_count                      False\n",
       "comments_count                       False\n",
       "id                                   False\n",
       "reposts_count                        False\n",
       "user.badge.anniversary               False\n",
       "user.badge.asiad_2018                False\n",
       "user.badge.bind_taobao               False\n",
       "user.badge.cz_wed_2017               False\n",
       "user.badge.dailv                     False\n",
       "user.badge.dailv_2018                False\n",
       "user.badge.denglong_2019             False\n",
       "user.badge.double11_2018             False\n",
       "user.badge.dzwbqlx_2016              False\n",
       "user.badge.follow_whitelist_video    False\n",
       "user.badge.fu_2019                   False\n",
       "user.badge.gongyi                    False\n",
       "user.badge.gongyi_level              False\n",
       "user.badge.hongbaofei_2019           False\n",
       "user.badge.kpl_2018                  False\n",
       "user.badge.league_badge              False\n",
       "user.badge.lol_gm_2017               False\n",
       "user.badge.lol_msi_2017              False\n",
       "user.badge.lol_s8                    False\n",
       "user.badge.meilizhongguo_2018        False\n",
       "user.badge.memorial_2018             False\n",
       "user.badge.national_day_2018         False\n",
       "user.badge.panda                     False\n",
       "user.badge.qixi_2018                 False\n",
       "user.badge.status_visible            False\n",
       "                                     ...  \n",
       "user.badge.unread_pool               False\n",
       "user.badge.unread_pool_ext           False\n",
       "user.badge.user_name_certificate     False\n",
       "user.badge.vip_activity2             False\n",
       "user.badge.wbzy_2018                 False\n",
       "user.badge.wenchuan_10th             False\n",
       "user.badge.wenda_v2                  False\n",
       "user.badge.womensday_2018            False\n",
       "user.badge.worldcup_2018             False\n",
       "user.badge.yiqijuan_2018             False\n",
       "user.badge.zongyiji                  False\n",
       "followings_num                       False\n",
       "followers_num                        False\n",
       "gender                               False\n",
       "vip_num                              False\n",
       "user.mbtype                          False\n",
       "posts_num                            False\n",
       "user.urank                           False\n",
       "verified_cat                         False\n",
       "default_img_cat                      False\n",
       "default_name_cat                     False\n",
       "garbled_name_cat                     False\n",
       "ch_name_cat                          False\n",
       "en_name_cat                          False\n",
       "vip_cat                              False\n",
       "followers_cat                        False\n",
       "default_cont_cat                     False\n",
       "intro_cat                            False\n",
       "device_cat                           False\n",
       "Effective                            False\n",
       "Length: 65, dtype: bool"
      ]
     },
     "execution_count": 6,
     "metadata": {},
     "output_type": "execute_result"
    }
   ],
   "source": [
    "data.isnull().any()"
   ]
  },
  {
   "cell_type": "code",
   "execution_count": 7,
   "metadata": {
    "collapsed": false
   },
   "outputs": [
    {
     "data": {
      "text/plain": [
       "8997"
      ]
     },
     "execution_count": 7,
     "metadata": {},
     "output_type": "execute_result"
    }
   ],
   "source": [
    "len(data)"
   ]
  },
  {
   "cell_type": "code",
   "execution_count": 8,
   "metadata": {
    "collapsed": false
   },
   "outputs": [
    {
     "data": {
      "text/plain": [
       "1    6526\n",
       "0    2471\n",
       "Name: Effective, dtype: int64"
      ]
     },
     "execution_count": 8,
     "metadata": {},
     "output_type": "execute_result"
    }
   ],
   "source": [
    "data['Effective'].value_counts()"
   ]
  },
  {
   "cell_type": "code",
   "execution_count": null,
   "metadata": {
    "collapsed": true
   },
   "outputs": [],
   "source": []
  },
  {
   "cell_type": "code",
   "execution_count": 9,
   "metadata": {
    "collapsed": false
   },
   "outputs": [
    {
     "data": {
      "text/plain": [
       "array([ 0,  1,  4,  2, 42])"
      ]
     },
     "execution_count": 9,
     "metadata": {},
     "output_type": "execute_result"
    }
   ],
   "source": [
    "data['comments_count'].unique()"
   ]
  },
  {
   "cell_type": "code",
   "execution_count": null,
   "metadata": {
    "collapsed": true
   },
   "outputs": [],
   "source": []
  },
  {
   "cell_type": "markdown",
   "metadata": {},
   "source": [
    "## upsampling"
   ]
  },
  {
   "cell_type": "code",
   "execution_count": 10,
   "metadata": {
    "collapsed": true
   },
   "outputs": [],
   "source": [
    "from sklearn.utils import resample"
   ]
  },
  {
   "cell_type": "code",
   "execution_count": 11,
   "metadata": {
    "collapsed": false
   },
   "outputs": [
    {
     "data": {
      "text/plain": [
       "1    6526\n",
       "0    6526\n",
       "Name: Effective, dtype: int64"
      ]
     },
     "execution_count": 11,
     "metadata": {},
     "output_type": "execute_result"
    }
   ],
   "source": [
    "data_majority = data[data['Effective']==1]\n",
    "data_minority = data[data['Effective']==0]\n",
    "\n",
    "data_minority_upsampled = resample(data_minority, replace=True, n_samples=6526, random_state=1)\n",
    "data = pd.concat([data_majority, data_minority_upsampled])\n",
    "\n",
    "data['Effective'].value_counts()"
   ]
  },
  {
   "cell_type": "code",
   "execution_count": null,
   "metadata": {
    "collapsed": true
   },
   "outputs": [],
   "source": []
  },
  {
   "cell_type": "markdown",
   "metadata": {},
   "source": [
    "## logistic regression"
   ]
  },
  {
   "cell_type": "code",
   "execution_count": 12,
   "metadata": {
    "collapsed": true
   },
   "outputs": [],
   "source": [
    "from sklearn.model_selection import train_test_split\n",
    "from sklearn.linear_model import LogisticRegression"
   ]
  },
  {
   "cell_type": "code",
   "execution_count": 13,
   "metadata": {
    "collapsed": false
   },
   "outputs": [],
   "source": [
    "X = data.drop(labels=['Effective', 'id'], axis=1)\n",
    "Y = data['Effective'].values"
   ]
  },
  {
   "cell_type": "code",
   "execution_count": 14,
   "metadata": {
    "collapsed": false
   },
   "outputs": [],
   "source": [
    "X_train, X_test, Y_train, Y_test = train_test_split(X, Y, test_size=0.25)"
   ]
  },
  {
   "cell_type": "code",
   "execution_count": 15,
   "metadata": {
    "collapsed": false
   },
   "outputs": [
    {
     "name": "stderr",
     "output_type": "stream",
     "text": [
      "/Library/Frameworks/Python.framework/Versions/2.7/lib/python2.7/site-packages/sklearn/linear_model/logistic.py:432: FutureWarning: Default solver will be changed to 'lbfgs' in 0.22. Specify a solver to silence this warning.\n",
      "  FutureWarning)\n"
     ]
    },
    {
     "data": {
      "text/plain": [
       "LogisticRegression(C=1.0, class_weight=None, dual=False, fit_intercept=True,\n",
       "          intercept_scaling=1, max_iter=100, multi_class='warn',\n",
       "          n_jobs=None, penalty='l2', random_state=None, solver='warn',\n",
       "          tol=0.0001, verbose=0, warm_start=False)"
      ]
     },
     "execution_count": 15,
     "metadata": {},
     "output_type": "execute_result"
    }
   ],
   "source": [
    "lr = LogisticRegression()\n",
    "lr.fit(X_train, Y_train)"
   ]
  },
  {
   "cell_type": "code",
   "execution_count": 16,
   "metadata": {
    "collapsed": true
   },
   "outputs": [],
   "source": [
    "from sklearn import metrics"
   ]
  },
  {
   "cell_type": "code",
   "execution_count": 17,
   "metadata": {
    "collapsed": true
   },
   "outputs": [],
   "source": [
    "test_prediction = lr.predict(X_test)"
   ]
  },
  {
   "cell_type": "code",
   "execution_count": 18,
   "metadata": {
    "collapsed": false
   },
   "outputs": [
    {
     "name": "stdout",
     "output_type": "stream",
     "text": [
      "0.8286852589641435\n"
     ]
    }
   ],
   "source": [
    "print(metrics.accuracy_score(Y_test, test_prediction))"
   ]
  },
  {
   "cell_type": "code",
   "execution_count": 19,
   "metadata": {
    "collapsed": false
   },
   "outputs": [
    {
     "data": {
      "text/plain": [
       "vip_num                              2.747795\n",
       "user.badge.user_name_certificate     1.955120\n",
       "device_cat                           0.690476\n",
       "attitudes_count                      0.687686\n",
       "ch_name_cat                          0.578398\n",
       "default_name_cat                     0.524421\n",
       "user.badge.qixi_2018                 0.479296\n",
       "user.badge.super_star_2017           0.432708\n",
       "user.badge.womensday_2018            0.432301\n",
       "user.badge.bind_taobao               0.414782\n",
       "user.badge.super_star_2018           0.346611\n",
       "user.badge.zongyiji                  0.334720\n",
       "default_cont_cat                     0.331397\n",
       "user.badge.suishoupai_2018           0.292163\n",
       "user.badge.double11_2018             0.267922\n",
       "user.badge.wenda_v2                  0.259342\n",
       "comments_count                       0.234934\n",
       "en_name_cat                          0.224116\n",
       "user.badge.gongyi_level              0.195647\n",
       "user.badge.dailv_2018                0.168422\n",
       "user.badge.dailv                     0.161856\n",
       "verified_cat                         0.157461\n",
       "user.badge.unread_pool               0.155712\n",
       "user.badge.status_visible            0.155561\n",
       "gender                               0.125311\n",
       "user.badge.cz_wed_2017               0.110821\n",
       "intro_cat                            0.103215\n",
       "user.badge.vip_activity2             0.098802\n",
       "user.badge.gongyi                    0.098691\n",
       "user.badge.yiqijuan_2018             0.096687\n",
       "                                       ...   \n",
       "user.badge.wenchuan_10th             0.059610\n",
       "user.badge.worldcup_2018             0.047708\n",
       "user.badge.national_day_2018         0.043042\n",
       "user.badge.dzwbqlx_2016              0.041828\n",
       "user.badge.unread_pool_ext           0.034539\n",
       "user.mbtype                          0.020953\n",
       "followings_num                       0.000104\n",
       "user.badge.follow_whitelist_video    0.000028\n",
       "posts_num                            0.000003\n",
       "followers_num                       -0.000171\n",
       "Unnamed: 0                          -0.000457\n",
       "user.badge.panda                    -0.021996\n",
       "user.urank                          -0.028104\n",
       "user.badge.travel_2017              -0.028245\n",
       "user.badge.denglong_2019            -0.034671\n",
       "user.badge.meilizhongguo_2018       -0.049287\n",
       "user.badge.anniversary              -0.120180\n",
       "followers_cat                       -0.183048\n",
       "user.badge.league_badge             -0.207607\n",
       "user.badge.memorial_2018            -0.216145\n",
       "user.badge.hongbaofei_2019          -0.217491\n",
       "user.badge.lol_gm_2017              -0.258248\n",
       "user.badge.wbzy_2018                -0.297503\n",
       "user.badge.asiad_2018               -0.501962\n",
       "garbled_name_cat                    -0.525984\n",
       "user.badge.uefa_euro_2016           -0.549848\n",
       "user.badge.lol_msi_2017             -0.715700\n",
       "user.badge.lol_s8                   -0.936001\n",
       "vip_cat                             -1.936161\n",
       "default_img_cat                     -4.033842\n",
       "Length: 63, dtype: float64"
      ]
     },
     "execution_count": 19,
     "metadata": {},
     "output_type": "execute_result"
    }
   ],
   "source": [
    "weights = pd.Series(lr.coef_[0], index=X.columns.values)\n",
    "weights.sort_values(ascending = False)"
   ]
  },
  {
   "cell_type": "markdown",
   "metadata": {},
   "source": [
    "## cross validation"
   ]
  },
  {
   "cell_type": "code",
   "execution_count": 20,
   "metadata": {
    "collapsed": false
   },
   "outputs": [],
   "source": [
    "from sklearn.model_selection import KFold,cross_val_score"
   ]
  },
  {
   "cell_type": "code",
   "execution_count": 21,
   "metadata": {
    "collapsed": true
   },
   "outputs": [],
   "source": [
    "k_fold = KFold(n_splits=10)"
   ]
  },
  {
   "cell_type": "code",
   "execution_count": 22,
   "metadata": {
    "collapsed": true
   },
   "outputs": [],
   "source": [
    "lr_model = LogisticRegression()"
   ]
  },
  {
   "cell_type": "code",
   "execution_count": 23,
   "metadata": {
    "collapsed": true
   },
   "outputs": [],
   "source": [
    "kf_scores = np.array([])"
   ]
  },
  {
   "cell_type": "code",
   "execution_count": 24,
   "metadata": {
    "collapsed": true
   },
   "outputs": [],
   "source": [
    "for train, test in k_fold.split(X):\n",
    "    temp = lr_model.fit(X.iloc[train, :], Y[train]).score(X.iloc[test, :], Y[test])\n",
    "    kf_scores = np.append(kf_scores, temp)"
   ]
  },
  {
   "cell_type": "code",
   "execution_count": 25,
   "metadata": {
    "collapsed": false
   },
   "outputs": [
    {
     "data": {
      "text/plain": [
       "0.8053019661685237"
      ]
     },
     "execution_count": 25,
     "metadata": {},
     "output_type": "execute_result"
    }
   ],
   "source": [
    "kf_scores.mean()"
   ]
  },
  {
   "cell_type": "code",
   "execution_count": null,
   "metadata": {
    "collapsed": true
   },
   "outputs": [],
   "source": []
  },
  {
   "cell_type": "markdown",
   "metadata": {
    "collapsed": true
   },
   "source": [
    "## with PCA"
   ]
  },
  {
   "cell_type": "code",
   "execution_count": 26,
   "metadata": {
    "collapsed": true
   },
   "outputs": [],
   "source": [
    "from sklearn.decomposition import PCA"
   ]
  },
  {
   "cell_type": "code",
   "execution_count": 27,
   "metadata": {
    "collapsed": true
   },
   "outputs": [],
   "source": [
    "def run_pca(num, folds):\n",
    "    pca = PCA(n_components=num)\n",
    "    principalComponents = pca.fit_transform(X)\n",
    "\n",
    "    pcaDF = pd.DataFrame(data = principalComponents)\n",
    "    pca_scores = np.array([])\n",
    "    k_fold = KFold(n_splits=folds)\n",
    "    for train, test in k_fold.split(pcaDF):\n",
    "        temp = lr_model.fit(pcaDF.iloc[train, :], Y[train]).score(pcaDF.iloc[test, :], Y[test])\n",
    "        pca_scores = np.append(pca_scores, temp)\n",
    "#     print(pca_scores)\n",
    "#     print(pca_scores.mean())\n",
    "    return pca_scores.mean()"
   ]
  },
  {
   "cell_type": "code",
   "execution_count": 28,
   "metadata": {
    "collapsed": false
   },
   "outputs": [],
   "source": [
    "pca_mean = []\n",
    "for n in range(5, 65, 5):\n",
    "    for f in range(5, 11):\n",
    "#         print(\"--- # of components: {} with {} folds ---\".format(n, f))\n",
    "        pca_mean.append(run_pca(n, f))"
   ]
  },
  {
   "cell_type": "code",
   "execution_count": 29,
   "metadata": {
    "collapsed": false
   },
   "outputs": [],
   "source": [
    "x = np.reshape(pca_mean, (12, 6))\n",
    "x_df = pd.DataFrame(x)\n",
    "x_df.columns = ['5 fold', '6 fold', '7 fold', '8 fold', '9 fold', '10 fold']"
   ]
  },
  {
   "cell_type": "code",
   "execution_count": 30,
   "metadata": {
    "collapsed": false
   },
   "outputs": [
    {
     "data": {
      "text/html": [
       "<div>\n",
       "<style scoped>\n",
       "    .dataframe tbody tr th:only-of-type {\n",
       "        vertical-align: middle;\n",
       "    }\n",
       "\n",
       "    .dataframe tbody tr th {\n",
       "        vertical-align: top;\n",
       "    }\n",
       "\n",
       "    .dataframe thead th {\n",
       "        text-align: right;\n",
       "    }\n",
       "</style>\n",
       "<table border=\"1\" class=\"dataframe\">\n",
       "  <thead>\n",
       "    <tr style=\"text-align: right;\">\n",
       "      <th></th>\n",
       "      <th>5 fold</th>\n",
       "      <th>6 fold</th>\n",
       "      <th>7 fold</th>\n",
       "      <th>8 fold</th>\n",
       "      <th>9 fold</th>\n",
       "      <th>10 fold</th>\n",
       "    </tr>\n",
       "    <tr>\n",
       "      <th>component</th>\n",
       "      <th></th>\n",
       "      <th></th>\n",
       "      <th></th>\n",
       "      <th></th>\n",
       "      <th></th>\n",
       "      <th></th>\n",
       "    </tr>\n",
       "  </thead>\n",
       "  <tbody>\n",
       "    <tr>\n",
       "      <th>5</th>\n",
       "      <td>0.316374</td>\n",
       "      <td>0.382155</td>\n",
       "      <td>0.469521</td>\n",
       "      <td>0.398756</td>\n",
       "      <td>0.441612</td>\n",
       "      <td>0.523635</td>\n",
       "    </tr>\n",
       "    <tr>\n",
       "      <th>10</th>\n",
       "      <td>0.675615</td>\n",
       "      <td>0.677054</td>\n",
       "      <td>0.721903</td>\n",
       "      <td>0.717317</td>\n",
       "      <td>0.733823</td>\n",
       "      <td>0.718338</td>\n",
       "    </tr>\n",
       "    <tr>\n",
       "      <th>15</th>\n",
       "      <td>0.714455</td>\n",
       "      <td>0.704640</td>\n",
       "      <td>0.767332</td>\n",
       "      <td>0.760602</td>\n",
       "      <td>0.770372</td>\n",
       "      <td>0.759332</td>\n",
       "    </tr>\n",
       "    <tr>\n",
       "      <th>20</th>\n",
       "      <td>0.754146</td>\n",
       "      <td>0.770460</td>\n",
       "      <td>0.773466</td>\n",
       "      <td>0.775853</td>\n",
       "      <td>0.784011</td>\n",
       "      <td>0.785077</td>\n",
       "    </tr>\n",
       "    <tr>\n",
       "      <th>25</th>\n",
       "      <td>0.757902</td>\n",
       "      <td>0.772376</td>\n",
       "      <td>0.782659</td>\n",
       "      <td>0.781904</td>\n",
       "      <td>0.782555</td>\n",
       "      <td>0.792662</td>\n",
       "    </tr>\n",
       "    <tr>\n",
       "      <th>30</th>\n",
       "      <td>0.753073</td>\n",
       "      <td>0.768775</td>\n",
       "      <td>0.783502</td>\n",
       "      <td>0.780756</td>\n",
       "      <td>0.780716</td>\n",
       "      <td>0.790746</td>\n",
       "    </tr>\n",
       "    <tr>\n",
       "      <th>35</th>\n",
       "      <td>0.772152</td>\n",
       "      <td>0.773295</td>\n",
       "      <td>0.790011</td>\n",
       "      <td>0.792398</td>\n",
       "      <td>0.789602</td>\n",
       "      <td>0.802390</td>\n",
       "    </tr>\n",
       "    <tr>\n",
       "      <th>40</th>\n",
       "      <td>0.768858</td>\n",
       "      <td>0.778505</td>\n",
       "      <td>0.785647</td>\n",
       "      <td>0.780069</td>\n",
       "      <td>0.800631</td>\n",
       "      <td>0.799480</td>\n",
       "    </tr>\n",
       "    <tr>\n",
       "      <th>45</th>\n",
       "      <td>0.758667</td>\n",
       "      <td>0.791913</td>\n",
       "      <td>0.790318</td>\n",
       "      <td>0.787267</td>\n",
       "      <td>0.795499</td>\n",
       "      <td>0.803311</td>\n",
       "    </tr>\n",
       "    <tr>\n",
       "      <th>50</th>\n",
       "      <td>0.740663</td>\n",
       "      <td>0.787087</td>\n",
       "      <td>0.784957</td>\n",
       "      <td>0.793471</td>\n",
       "      <td>0.799865</td>\n",
       "      <td>0.797717</td>\n",
       "    </tr>\n",
       "    <tr>\n",
       "      <th>55</th>\n",
       "      <td>0.758820</td>\n",
       "      <td>0.782566</td>\n",
       "      <td>0.798210</td>\n",
       "      <td>0.776692</td>\n",
       "      <td>0.791896</td>\n",
       "      <td>0.798865</td>\n",
       "    </tr>\n",
       "    <tr>\n",
       "      <th>60</th>\n",
       "      <td>0.785636</td>\n",
       "      <td>0.778199</td>\n",
       "      <td>0.788636</td>\n",
       "      <td>0.799755</td>\n",
       "      <td>0.790293</td>\n",
       "      <td>0.803080</td>\n",
       "    </tr>\n",
       "  </tbody>\n",
       "</table>\n",
       "</div>"
      ],
      "text/plain": [
       "             5 fold    6 fold    7 fold    8 fold    9 fold   10 fold\n",
       "component                                                            \n",
       "5          0.316374  0.382155  0.469521  0.398756  0.441612  0.523635\n",
       "10         0.675615  0.677054  0.721903  0.717317  0.733823  0.718338\n",
       "15         0.714455  0.704640  0.767332  0.760602  0.770372  0.759332\n",
       "20         0.754146  0.770460  0.773466  0.775853  0.784011  0.785077\n",
       "25         0.757902  0.772376  0.782659  0.781904  0.782555  0.792662\n",
       "30         0.753073  0.768775  0.783502  0.780756  0.780716  0.790746\n",
       "35         0.772152  0.773295  0.790011  0.792398  0.789602  0.802390\n",
       "40         0.768858  0.778505  0.785647  0.780069  0.800631  0.799480\n",
       "45         0.758667  0.791913  0.790318  0.787267  0.795499  0.803311\n",
       "50         0.740663  0.787087  0.784957  0.793471  0.799865  0.797717\n",
       "55         0.758820  0.782566  0.798210  0.776692  0.791896  0.798865\n",
       "60         0.785636  0.778199  0.788636  0.799755  0.790293  0.803080"
      ]
     },
     "execution_count": 30,
     "metadata": {},
     "output_type": "execute_result"
    }
   ],
   "source": [
    "x_df['component'] = np.array(list(range(5, 65, 5)))\n",
    "x_df.set_index('component')"
   ]
  },
  {
   "cell_type": "code",
   "execution_count": null,
   "metadata": {
    "collapsed": true
   },
   "outputs": [],
   "source": []
  },
  {
   "cell_type": "code",
   "execution_count": 35,
   "metadata": {
    "collapsed": false
   },
   "outputs": [
    {
     "data": {
      "text/plain": [
       "<matplotlib.legend.Legend at 0x120b18350>"
      ]
     },
     "execution_count": 35,
     "metadata": {},
     "output_type": "execute_result"
    },
    {
     "data": {
      "image/png": "[encoded data removed]",
      "text/plain": [
       "<Figure size 864x432 with 1 Axes>"
      ]
     },
     "metadata": {},
     "output_type": "display_data"
    }
   ],
   "source": [
    "plt.figure(figsize=(12,6))\n",
    "for col in x_df.columns[0:-1]:\n",
    "    plt.scatter(x_df['component'], x_df[col], s=50)\n",
    "plt.legend(numpoints=1)"
   ]
  },
  {
   "cell_type": "code",
   "execution_count": null,
   "metadata": {
    "collapsed": true
   },
   "outputs": [],
   "source": []
  },
  {
   "cell_type": "code",
   "execution_count": 34,
   "metadata": {
    "collapsed": false
   },
   "outputs": [
    {
     "data": {
      "text/plain": [
       "<matplotlib.legend.Legend at 0x11a8a42d0>"
      ]
     },
     "execution_count": 34,
     "metadata": {},
     "output_type": "execute_result"
    },
    {
     "data": {
      "image/png": "[encoded data removed]",
      "text/plain": [
       "<Figure size 864x432 with 1 Axes>"
      ]
     },
     "metadata": {},
     "output_type": "display_data"
    }
   ],
   "source": [
    "plt.figure(figsize=(12,6))\n",
    "for col in x_df.columns[0:-1]:\n",
    "    plt.plot(x_df['component'], x_df[col], '-o')\n",
    "plt.legend(numpoints=1)"
   ]
  },
  {
   "cell_type": "code",
   "execution_count": null,
   "metadata": {
    "collapsed": true
   },
   "outputs": [],
   "source": []
  },
  {
   "cell_type": "code",
   "execution_count": null,
   "metadata": {
    "collapsed": true
   },
   "outputs": [],
   "source": []
  },
  {
   "cell_type": "code",
   "execution_count": null,
   "metadata": {
    "collapsed": true
   },
   "outputs": [],
   "source": []
  },
  {
   "cell_type": "code",
   "execution_count": null,
   "metadata": {
    "collapsed": true
   },
   "outputs": [],
   "source": []
  }
 ],
 "metadata": {
  "kernelspec": {
   "display_name": "Python 2",
   "language": "python",
   "name": "python2"
  },
  "language_info": {
   "codemirror_mode": {
    "name": "ipython",
    "version": 2
   },
   "file_extension": ".py",
   "mimetype": "text/x-python",
   "name": "python",
   "nbconvert_exporter": "python",
   "pygments_lexer": "ipython2",
   "version": "2.7.11"
  }
 },
 "nbformat": 4,
 "nbformat_minor": 2
}
