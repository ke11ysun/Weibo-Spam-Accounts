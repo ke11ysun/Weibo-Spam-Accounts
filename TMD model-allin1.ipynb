{
 "cells": [
  {
   "cell_type": "code",
   "execution_count": 1,
   "metadata": {
    "collapsed": true
   },
   "outputs": [],
   "source": [
    "import pandas as pd\n",
    "import numpy as np\n",
    "from matplotlib import pyplot as plt\n",
    "import seaborn as sns\n",
    "% matplotlib inline"
   ]
  },
  {
   "cell_type": "code",
   "execution_count": 2,
   "metadata": {
    "collapsed": true
   },
   "outputs": [],
   "source": [
    "data = pd.read_csv('all_in_1_w_more_feat.csv', header=0)"
   ]
  },
  {
   "cell_type": "code",
   "execution_count": 3,
   "metadata": {
    "collapsed": false
   },
   "outputs": [
    {
     "data": {
      "text/plain": [
       "Index([u'Unnamed: 0', u'attitudes_count', u'comments_count', u'id',\n",
       "       u'reposts_count', u'user.badge.anniversary', u'user.badge.asiad_2018',\n",
       "       u'user.badge.bind_taobao', u'user.badge.cz_wed_2017',\n",
       "       u'user.badge.dailv', u'user.badge.dailv_2018',\n",
       "       u'user.badge.denglong_2019', u'user.badge.double11_2018',\n",
       "       u'user.badge.dzwbqlx_2016', u'user.badge.follow_whitelist_video',\n",
       "       u'user.badge.fu_2019', u'user.badge.gongyi', u'user.badge.gongyi_level',\n",
       "       u'user.badge.hongbaofei_2019', u'user.badge.kpl_2018',\n",
       "       u'user.badge.league_badge', u'user.badge.lol_gm_2017',\n",
       "       u'user.badge.lol_msi_2017', u'user.badge.lol_s8',\n",
       "       u'user.badge.meilizhongguo_2018', u'user.badge.memorial_2018',\n",
       "       u'user.badge.national_day_2018', u'user.badge.panda',\n",
       "       u'user.badge.qixi_2018', u'user.badge.status_visible',\n",
       "       u'user.badge.suishoupai_2018', u'user.badge.super_star_2017',\n",
       "       u'user.badge.super_star_2018', u'user.badge.travel_2017',\n",
       "       u'user.badge.uefa_euro_2016', u'user.badge.unread_pool',\n",
       "       u'user.badge.unread_pool_ext', u'user.badge.user_name_certificate',\n",
       "       u'user.badge.vip_activity2', u'user.badge.wbzy_2018',\n",
       "       u'user.badge.wenchuan_10th', u'user.badge.wenda_v2',\n",
       "       u'user.badge.womensday_2018', u'user.badge.worldcup_2018',\n",
       "       u'user.badge.yiqijuan_2018', u'user.badge.zongyiji', u'followings_num',\n",
       "       u'followers_num', u'gender', u'vip_num', u'user.mbtype', u'posts_num',\n",
       "       u'user.urank', u'verified_cat', u'default_img_cat', u'default_name_cat',\n",
       "       u'garbled_name_cat', u'ch_name_cat', u'en_name_cat', u'vip_cat',\n",
       "       u'followers_cat', u'default_cont_cat', u'intro_cat', u'device_cat',\n",
       "       u'Effective'],\n",
       "      dtype='object')"
      ]
     },
     "execution_count": 3,
     "metadata": {},
     "output_type": "execute_result"
    }
   ],
   "source": [
    "data.columns"
   ]
  },
  {
   "cell_type": "code",
   "execution_count": 4,
   "metadata": {
    "collapsed": false
   },
   "outputs": [
    {
     "data": {
      "text/plain": [
       "Unnamed: 0                             int64\n",
       "attitudes_count                        int64\n",
       "comments_count                         int64\n",
       "id                                     int64\n",
       "reposts_count                          int64\n",
       "user.badge.anniversary               float64\n",
       "user.badge.asiad_2018                float64\n",
       "user.badge.bind_taobao               float64\n",
       "user.badge.cz_wed_2017               float64\n",
       "user.badge.dailv                     float64\n",
       "user.badge.dailv_2018                float64\n",
       "user.badge.denglong_2019             float64\n",
       "user.badge.double11_2018             float64\n",
       "user.badge.dzwbqlx_2016              float64\n",
       "user.badge.follow_whitelist_video    float64\n",
       "user.badge.fu_2019                   float64\n",
       "user.badge.gongyi                    float64\n",
       "user.badge.gongyi_level              float64\n",
       "user.badge.hongbaofei_2019           float64\n",
       "user.badge.kpl_2018                  float64\n",
       "user.badge.league_badge              float64\n",
       "user.badge.lol_gm_2017               float64\n",
       "user.badge.lol_msi_2017              float64\n",
       "user.badge.lol_s8                    float64\n",
       "user.badge.meilizhongguo_2018        float64\n",
       "user.badge.memorial_2018             float64\n",
       "user.badge.national_day_2018         float64\n",
       "user.badge.panda                     float64\n",
       "user.badge.qixi_2018                 float64\n",
       "user.badge.status_visible            float64\n",
       "                                      ...   \n",
       "user.badge.unread_pool               float64\n",
       "user.badge.unread_pool_ext           float64\n",
       "user.badge.user_name_certificate     float64\n",
       "user.badge.vip_activity2             float64\n",
       "user.badge.wbzy_2018                 float64\n",
       "user.badge.wenchuan_10th             float64\n",
       "user.badge.wenda_v2                  float64\n",
       "user.badge.womensday_2018            float64\n",
       "user.badge.worldcup_2018             float64\n",
       "user.badge.yiqijuan_2018             float64\n",
       "user.badge.zongyiji                  float64\n",
       "followings_num                         int64\n",
       "followers_num                          int64\n",
       "gender                                 int64\n",
       "vip_num                                int64\n",
       "user.mbtype                            int64\n",
       "posts_num                              int64\n",
       "user.urank                             int64\n",
       "verified_cat                           int64\n",
       "default_img_cat                        int64\n",
       "default_name_cat                     float64\n",
       "garbled_name_cat                     float64\n",
       "ch_name_cat                          float64\n",
       "en_name_cat                          float64\n",
       "vip_cat                              float64\n",
       "followers_cat                        float64\n",
       "default_cont_cat                     float64\n",
       "intro_cat                            float64\n",
       "device_cat                             int64\n",
       "Effective                              int64\n",
       "Length: 65, dtype: object"
      ]
     },
     "execution_count": 4,
     "metadata": {},
     "output_type": "execute_result"
    }
   ],
   "source": [
    "data.dtypes"
   ]
  },
  {
   "cell_type": "code",
   "execution_count": 5,
   "metadata": {
    "collapsed": false
   },
   "outputs": [
    {
     "data": {
      "text/html": [
       "<div>\n",
       "<style scoped>\n",
       "    .dataframe tbody tr th:only-of-type {\n",
       "        vertical-align: middle;\n",
       "    }\n",
       "\n",
       "    .dataframe tbody tr th {\n",
       "        vertical-align: top;\n",
       "    }\n",
       "\n",
       "    .dataframe thead th {\n",
       "        text-align: right;\n",
       "    }\n",
       "</style>\n",
       "<table border=\"1\" class=\"dataframe\">\n",
       "  <thead>\n",
       "    <tr style=\"text-align: right;\">\n",
       "      <th></th>\n",
       "      <th>Unnamed: 0</th>\n",
       "      <th>attitudes_count</th>\n",
       "      <th>comments_count</th>\n",
       "      <th>id</th>\n",
       "      <th>reposts_count</th>\n",
       "      <th>user.badge.anniversary</th>\n",
       "      <th>user.badge.asiad_2018</th>\n",
       "      <th>user.badge.bind_taobao</th>\n",
       "      <th>user.badge.cz_wed_2017</th>\n",
       "      <th>user.badge.dailv</th>\n",
       "      <th>...</th>\n",
       "      <th>default_name_cat</th>\n",
       "      <th>garbled_name_cat</th>\n",
       "      <th>ch_name_cat</th>\n",
       "      <th>en_name_cat</th>\n",
       "      <th>vip_cat</th>\n",
       "      <th>followers_cat</th>\n",
       "      <th>default_cont_cat</th>\n",
       "      <th>intro_cat</th>\n",
       "      <th>device_cat</th>\n",
       "      <th>Effective</th>\n",
       "    </tr>\n",
       "  </thead>\n",
       "  <tbody>\n",
       "    <tr>\n",
       "      <th>0</th>\n",
       "      <td>0</td>\n",
       "      <td>0</td>\n",
       "      <td>0</td>\n",
       "      <td>4327742222747234</td>\n",
       "      <td>0</td>\n",
       "      <td>0.0</td>\n",
       "      <td>0.0</td>\n",
       "      <td>1.0</td>\n",
       "      <td>0.0</td>\n",
       "      <td>0.0</td>\n",
       "      <td>...</td>\n",
       "      <td>0.0</td>\n",
       "      <td>0.0</td>\n",
       "      <td>0.0</td>\n",
       "      <td>0.0</td>\n",
       "      <td>1.0</td>\n",
       "      <td>0.0</td>\n",
       "      <td>0.0</td>\n",
       "      <td>0.0</td>\n",
       "      <td>0</td>\n",
       "      <td>1</td>\n",
       "    </tr>\n",
       "    <tr>\n",
       "      <th>1</th>\n",
       "      <td>1</td>\n",
       "      <td>0</td>\n",
       "      <td>0</td>\n",
       "      <td>4324519222687127</td>\n",
       "      <td>0</td>\n",
       "      <td>0.0</td>\n",
       "      <td>0.0</td>\n",
       "      <td>0.0</td>\n",
       "      <td>0.0</td>\n",
       "      <td>0.0</td>\n",
       "      <td>...</td>\n",
       "      <td>0.0</td>\n",
       "      <td>1.0</td>\n",
       "      <td>0.0</td>\n",
       "      <td>0.0</td>\n",
       "      <td>1.0</td>\n",
       "      <td>0.0</td>\n",
       "      <td>0.0</td>\n",
       "      <td>1.0</td>\n",
       "      <td>0</td>\n",
       "      <td>1</td>\n",
       "    </tr>\n",
       "    <tr>\n",
       "      <th>2</th>\n",
       "      <td>2</td>\n",
       "      <td>0</td>\n",
       "      <td>0</td>\n",
       "      <td>4324171619849135</td>\n",
       "      <td>0</td>\n",
       "      <td>0.0</td>\n",
       "      <td>0.0</td>\n",
       "      <td>0.0</td>\n",
       "      <td>0.0</td>\n",
       "      <td>0.0</td>\n",
       "      <td>...</td>\n",
       "      <td>0.0</td>\n",
       "      <td>0.0</td>\n",
       "      <td>0.0</td>\n",
       "      <td>0.0</td>\n",
       "      <td>0.0</td>\n",
       "      <td>0.0</td>\n",
       "      <td>0.0</td>\n",
       "      <td>1.0</td>\n",
       "      <td>0</td>\n",
       "      <td>1</td>\n",
       "    </tr>\n",
       "    <tr>\n",
       "      <th>3</th>\n",
       "      <td>3</td>\n",
       "      <td>0</td>\n",
       "      <td>0</td>\n",
       "      <td>4323656345349198</td>\n",
       "      <td>0</td>\n",
       "      <td>0.0</td>\n",
       "      <td>0.0</td>\n",
       "      <td>0.0</td>\n",
       "      <td>0.0</td>\n",
       "      <td>0.0</td>\n",
       "      <td>...</td>\n",
       "      <td>0.0</td>\n",
       "      <td>0.0</td>\n",
       "      <td>0.0</td>\n",
       "      <td>0.0</td>\n",
       "      <td>0.0</td>\n",
       "      <td>0.0</td>\n",
       "      <td>0.0</td>\n",
       "      <td>1.0</td>\n",
       "      <td>0</td>\n",
       "      <td>1</td>\n",
       "    </tr>\n",
       "    <tr>\n",
       "      <th>4</th>\n",
       "      <td>4</td>\n",
       "      <td>0</td>\n",
       "      <td>0</td>\n",
       "      <td>4323336907448716</td>\n",
       "      <td>0</td>\n",
       "      <td>0.0</td>\n",
       "      <td>0.0</td>\n",
       "      <td>0.0</td>\n",
       "      <td>0.0</td>\n",
       "      <td>0.0</td>\n",
       "      <td>...</td>\n",
       "      <td>0.0</td>\n",
       "      <td>0.0</td>\n",
       "      <td>0.0</td>\n",
       "      <td>0.0</td>\n",
       "      <td>0.0</td>\n",
       "      <td>0.0</td>\n",
       "      <td>0.0</td>\n",
       "      <td>1.0</td>\n",
       "      <td>0</td>\n",
       "      <td>1</td>\n",
       "    </tr>\n",
       "  </tbody>\n",
       "</table>\n",
       "<p>5 rows × 65 columns</p>\n",
       "</div>"
      ],
      "text/plain": [
       "   Unnamed: 0  attitudes_count  comments_count                id  \\\n",
       "0           0                0               0  4327742222747234   \n",
       "1           1                0               0  4324519222687127   \n",
       "2           2                0               0  4324171619849135   \n",
       "3           3                0               0  4323656345349198   \n",
       "4           4                0               0  4323336907448716   \n",
       "\n",
       "   reposts_count  user.badge.anniversary  user.badge.asiad_2018  \\\n",
       "0              0                     0.0                    0.0   \n",
       "1              0                     0.0                    0.0   \n",
       "2              0                     0.0                    0.0   \n",
       "3              0                     0.0                    0.0   \n",
       "4              0                     0.0                    0.0   \n",
       "\n",
       "   user.badge.bind_taobao  user.badge.cz_wed_2017  user.badge.dailv  ...  \\\n",
       "0                     1.0                     0.0               0.0  ...   \n",
       "1                     0.0                     0.0               0.0  ...   \n",
       "2                     0.0                     0.0               0.0  ...   \n",
       "3                     0.0                     0.0               0.0  ...   \n",
       "4                     0.0                     0.0               0.0  ...   \n",
       "\n",
       "   default_name_cat  garbled_name_cat  ch_name_cat  en_name_cat  vip_cat  \\\n",
       "0               0.0               0.0          0.0          0.0      1.0   \n",
       "1               0.0               1.0          0.0          0.0      1.0   \n",
       "2               0.0               0.0          0.0          0.0      0.0   \n",
       "3               0.0               0.0          0.0          0.0      0.0   \n",
       "4               0.0               0.0          0.0          0.0      0.0   \n",
       "\n",
       "   followers_cat  default_cont_cat  intro_cat  device_cat  Effective  \n",
       "0            0.0               0.0        0.0           0          1  \n",
       "1            0.0               0.0        1.0           0          1  \n",
       "2            0.0               0.0        1.0           0          1  \n",
       "3            0.0               0.0        1.0           0          1  \n",
       "4            0.0               0.0        1.0           0          1  \n",
       "\n",
       "[5 rows x 65 columns]"
      ]
     },
     "execution_count": 5,
     "metadata": {},
     "output_type": "execute_result"
    }
   ],
   "source": [
    "data.head()"
   ]
  },
  {
   "cell_type": "code",
   "execution_count": 6,
   "metadata": {
    "collapsed": false
   },
   "outputs": [
    {
     "data": {
      "text/plain": [
       "Unnamed: 0                           False\n",
       "attitudes_count                      False\n",
       "comments_count                       False\n",
       "id                                   False\n",
       "reposts_count                        False\n",
       "user.badge.anniversary               False\n",
       "user.badge.asiad_2018                False\n",
       "user.badge.bind_taobao               False\n",
       "user.badge.cz_wed_2017               False\n",
       "user.badge.dailv                     False\n",
       "user.badge.dailv_2018                False\n",
       "user.badge.denglong_2019             False\n",
       "user.badge.double11_2018             False\n",
       "user.badge.dzwbqlx_2016              False\n",
       "user.badge.follow_whitelist_video    False\n",
       "user.badge.fu_2019                   False\n",
       "user.badge.gongyi                    False\n",
       "user.badge.gongyi_level              False\n",
       "user.badge.hongbaofei_2019           False\n",
       "user.badge.kpl_2018                  False\n",
       "user.badge.league_badge              False\n",
       "user.badge.lol_gm_2017               False\n",
       "user.badge.lol_msi_2017              False\n",
       "user.badge.lol_s8                    False\n",
       "user.badge.meilizhongguo_2018        False\n",
       "user.badge.memorial_2018             False\n",
       "user.badge.national_day_2018         False\n",
       "user.badge.panda                     False\n",
       "user.badge.qixi_2018                 False\n",
       "user.badge.status_visible            False\n",
       "                                     ...  \n",
       "user.badge.unread_pool               False\n",
       "user.badge.unread_pool_ext           False\n",
       "user.badge.user_name_certificate     False\n",
       "user.badge.vip_activity2             False\n",
       "user.badge.wbzy_2018                 False\n",
       "user.badge.wenchuan_10th             False\n",
       "user.badge.wenda_v2                  False\n",
       "user.badge.womensday_2018            False\n",
       "user.badge.worldcup_2018             False\n",
       "user.badge.yiqijuan_2018             False\n",
       "user.badge.zongyiji                  False\n",
       "followings_num                       False\n",
       "followers_num                        False\n",
       "gender                               False\n",
       "vip_num                              False\n",
       "user.mbtype                          False\n",
       "posts_num                            False\n",
       "user.urank                           False\n",
       "verified_cat                         False\n",
       "default_img_cat                      False\n",
       "default_name_cat                     False\n",
       "garbled_name_cat                     False\n",
       "ch_name_cat                          False\n",
       "en_name_cat                          False\n",
       "vip_cat                              False\n",
       "followers_cat                        False\n",
       "default_cont_cat                     False\n",
       "intro_cat                            False\n",
       "device_cat                           False\n",
       "Effective                            False\n",
       "Length: 65, dtype: bool"
      ]
     },
     "execution_count": 6,
     "metadata": {},
     "output_type": "execute_result"
    }
   ],
   "source": [
    "data.isnull().any()"
   ]
  },
  {
   "cell_type": "code",
   "execution_count": 7,
   "metadata": {
    "collapsed": false
   },
   "outputs": [
    {
     "data": {
      "text/plain": [
       "8997"
      ]
     },
     "execution_count": 7,
     "metadata": {},
     "output_type": "execute_result"
    }
   ],
   "source": [
    "len(data)"
   ]
  },
  {
   "cell_type": "code",
   "execution_count": 8,
   "metadata": {
    "collapsed": false
   },
   "outputs": [
    {
     "data": {
      "text/plain": [
       "1    6526\n",
       "0    2471\n",
       "Name: Effective, dtype: int64"
      ]
     },
     "execution_count": 8,
     "metadata": {},
     "output_type": "execute_result"
    }
   ],
   "source": [
    "data['Effective'].value_counts()"
   ]
  },
  {
   "cell_type": "code",
   "execution_count": null,
   "metadata": {
    "collapsed": true
   },
   "outputs": [],
   "source": []
  },
  {
   "cell_type": "code",
   "execution_count": 9,
   "metadata": {
    "collapsed": false
   },
   "outputs": [
    {
     "data": {
      "text/plain": [
       "array([ 0,  1,  4,  2, 42])"
      ]
     },
     "execution_count": 9,
     "metadata": {},
     "output_type": "execute_result"
    }
   ],
   "source": [
    "data['comments_count'].unique()"
   ]
  },
  {
   "cell_type": "code",
   "execution_count": null,
   "metadata": {
    "collapsed": true
   },
   "outputs": [],
   "source": []
  },
  {
   "cell_type": "markdown",
   "metadata": {},
   "source": [
    "## upsampling"
   ]
  },
  {
   "cell_type": "code",
   "execution_count": 10,
   "metadata": {
    "collapsed": true
   },
   "outputs": [],
   "source": [
    "from sklearn.utils import resample"
   ]
  },
  {
   "cell_type": "code",
   "execution_count": 11,
   "metadata": {
    "collapsed": false
   },
   "outputs": [
    {
     "data": {
      "text/plain": [
       "1    6526\n",
       "0    6526\n",
       "Name: Effective, dtype: int64"
      ]
     },
     "execution_count": 11,
     "metadata": {},
     "output_type": "execute_result"
    }
   ],
   "source": [
    "data_majority = data[data['Effective']==1]\n",
    "data_minority = data[data['Effective']==0]\n",
    "\n",
    "data_minority_upsampled = resample(data_minority, replace=True, n_samples=6526, random_state=1)\n",
    "data = pd.concat([data_majority, data_minority_upsampled])\n",
    "\n",
    "data['Effective'].value_counts()"
   ]
  },
  {
   "cell_type": "code",
   "execution_count": null,
   "metadata": {
    "collapsed": true
   },
   "outputs": [],
   "source": []
  },
  {
   "cell_type": "markdown",
   "metadata": {},
   "source": [
    "## logistic regression"
   ]
  },
  {
   "cell_type": "code",
   "execution_count": 12,
   "metadata": {
    "collapsed": true
   },
   "outputs": [],
   "source": [
    "from sklearn.model_selection import train_test_split\n",
    "from sklearn.linear_model import LogisticRegression"
   ]
  },
  {
   "cell_type": "code",
   "execution_count": 13,
   "metadata": {
    "collapsed": false
   },
   "outputs": [],
   "source": [
    "X = data.drop(labels=['Effective', 'id'], axis=1)\n",
    "Y = data['Effective'].values"
   ]
  },
  {
   "cell_type": "code",
   "execution_count": 14,
   "metadata": {
    "collapsed": false
   },
   "outputs": [],
   "source": [
    "X_train, X_test, Y_train, Y_test = train_test_split(X, Y, test_size=0.25)"
   ]
  },
  {
   "cell_type": "code",
   "execution_count": 15,
   "metadata": {
    "collapsed": false
   },
   "outputs": [
    {
     "name": "stderr",
     "output_type": "stream",
     "text": [
      "/Library/Frameworks/Python.framework/Versions/2.7/lib/python2.7/site-packages/sklearn/linear_model/logistic.py:432: FutureWarning: Default solver will be changed to 'lbfgs' in 0.22. Specify a solver to silence this warning.\n",
      "  FutureWarning)\n"
     ]
    },
    {
     "data": {
      "text/plain": [
       "LogisticRegression(C=1.0, class_weight=None, dual=False, fit_intercept=True,\n",
       "          intercept_scaling=1, max_iter=100, multi_class='warn',\n",
       "          n_jobs=None, penalty='l2', random_state=None, solver='warn',\n",
       "          tol=0.0001, verbose=0, warm_start=False)"
      ]
     },
     "execution_count": 15,
     "metadata": {},
     "output_type": "execute_result"
    }
   ],
   "source": [
    "lr = LogisticRegression()\n",
    "lr.fit(X_train, Y_train)"
   ]
  },
  {
   "cell_type": "code",
   "execution_count": 16,
   "metadata": {
    "collapsed": true
   },
   "outputs": [],
   "source": [
    "from sklearn import metrics"
   ]
  },
  {
   "cell_type": "code",
   "execution_count": 17,
   "metadata": {
    "collapsed": true
   },
   "outputs": [],
   "source": [
    "test_prediction = lr.predict(X_test)"
   ]
  },
  {
   "cell_type": "code",
   "execution_count": 18,
   "metadata": {
    "collapsed": false
   },
   "outputs": [
    {
     "name": "stdout",
     "output_type": "stream",
     "text": [
      "0.8222494636837266\n"
     ]
    }
   ],
   "source": [
    "print(metrics.accuracy_score(Y_test, test_prediction))"
   ]
  },
  {
   "cell_type": "code",
   "execution_count": null,
   "metadata": {
    "collapsed": true
   },
   "outputs": [],
   "source": []
  },
  {
   "cell_type": "markdown",
   "metadata": {},
   "source": [
    "## roc curve"
   ]
  },
  {
   "cell_type": "code",
   "execution_count": 19,
   "metadata": {
    "collapsed": true
   },
   "outputs": [],
   "source": [
    "from sklearn.metrics import roc_curve, auc"
   ]
  },
  {
   "cell_type": "code",
   "execution_count": 20,
   "metadata": {
    "collapsed": true
   },
   "outputs": [],
   "source": [
    "probs = lr.predict_proba(X_test)"
   ]
  },
  {
   "cell_type": "code",
   "execution_count": 21,
   "metadata": {
    "collapsed": true
   },
   "outputs": [],
   "source": [
    "preds = probs[:,1]\n",
    "fpr, tpr, threshold = roc_curve(Y_test, preds)\n",
    "roc_auc = metrics.auc(fpr, tpr)"
   ]
  },
  {
   "cell_type": "code",
   "execution_count": 22,
   "metadata": {
    "collapsed": false
   },
   "outputs": [
    {
     "data": {
      "image/png": "[encoded data removed]",
      "text/plain": [
       "<Figure size 576x360 with 1 Axes>"
      ]
     },
     "metadata": {},
     "output_type": "display_data"
    }
   ],
   "source": [
    "plt.figure(figsize=(8, 5))\n",
    "plt.plot(fpr, tpr, label=\"AUC = \"+str(roc_auc))\n",
    "plt.legend(loc=4)\n",
    "plt.show()"
   ]
  },
  {
   "cell_type": "code",
   "execution_count": null,
   "metadata": {
    "collapsed": true
   },
   "outputs": [],
   "source": []
  },
  {
   "cell_type": "markdown",
   "metadata": {},
   "source": [
    "## feature importances"
   ]
  },
  {
   "cell_type": "code",
   "execution_count": 23,
   "metadata": {
    "collapsed": false
   },
   "outputs": [
    {
     "data": {
      "text/plain": [
       "vip_num                              1.699144\n",
       "user.badge.user_name_certificate     1.432791\n",
       "en_name_cat                          0.559754\n",
       "default_cont_cat                     0.467050\n",
       "user.badge.qixi_2018                 0.404583\n",
       "followers_cat                        0.352972\n",
       "user.badge.suishoupai_2018           0.297422\n",
       "user.badge.dailv_2018                0.279684\n",
       "ch_name_cat                          0.273493\n",
       "user.badge.bind_taobao               0.250116\n",
       "device_cat                           0.227277\n",
       "attitudes_count                      0.223793\n",
       "user.badge.national_day_2018         0.217341\n",
       "user.badge.wenchuan_10th             0.196271\n",
       "user.badge.super_star_2018           0.182449\n",
       "intro_cat                            0.162027\n",
       "user.badge.yiqijuan_2018             0.151805\n",
       "user.badge.worldcup_2018             0.092191\n",
       "user.badge.super_star_2017           0.081714\n",
       "user.badge.wenda_v2                  0.081366\n",
       "user.badge.status_visible            0.073822\n",
       "user.badge.womensday_2018            0.065452\n",
       "default_name_cat                     0.063413\n",
       "user.badge.zongyiji                  0.061621\n",
       "comments_count                       0.055874\n",
       "user.badge.vip_activity2             0.047086\n",
       "user.badge.dailv                     0.029582\n",
       "verified_cat                         0.026721\n",
       "user.mbtype                          0.025580\n",
       "user.badge.unread_pool               0.025514\n",
       "                                       ...   \n",
       "garbled_name_cat                     0.010600\n",
       "user.badge.cz_wed_2017               0.009847\n",
       "user.badge.kpl_2018                  0.006381\n",
       "user.badge.panda                     0.004713\n",
       "user.badge.follow_whitelist_video    0.003607\n",
       "user.badge.gongyi                    0.003347\n",
       "user.badge.dzwbqlx_2016              0.003212\n",
       "gender                               0.002907\n",
       "user.badge.league_badge              0.001960\n",
       "followings_num                      -0.000006\n",
       "posts_num                           -0.000025\n",
       "followers_num                       -0.000111\n",
       "Unnamed: 0                          -0.000432\n",
       "user.urank                          -0.010097\n",
       "user.badge.travel_2017              -0.018486\n",
       "user.badge.fu_2019                  -0.025514\n",
       "user.badge.lol_gm_2017              -0.046208\n",
       "user.badge.anniversary              -0.048523\n",
       "user.badge.unread_pool_ext          -0.057669\n",
       "user.badge.denglong_2019            -0.063820\n",
       "user.badge.meilizhongguo_2018       -0.088632\n",
       "user.badge.wbzy_2018                -0.096605\n",
       "user.badge.asiad_2018               -0.097756\n",
       "user.badge.uefa_euro_2016           -0.098551\n",
       "user.badge.memorial_2018            -0.154058\n",
       "vip_cat                             -0.160181\n",
       "user.badge.hongbaofei_2019          -0.177551\n",
       "user.badge.lol_msi_2017             -0.216749\n",
       "user.badge.lol_s8                   -0.513786\n",
       "default_img_cat                     -3.413525\n",
       "Length: 63, dtype: float64"
      ]
     },
     "execution_count": 23,
     "metadata": {},
     "output_type": "execute_result"
    }
   ],
   "source": [
    "weights = pd.Series(lr.coef_[0], index=X.columns.values)\n",
    "weights.sort_values(ascending = False)"
   ]
  },
  {
   "cell_type": "markdown",
   "metadata": {},
   "source": [
    "## cross validation"
   ]
  },
  {
   "cell_type": "code",
   "execution_count": 24,
   "metadata": {
    "collapsed": false
   },
   "outputs": [],
   "source": [
    "from sklearn.model_selection import KFold,cross_val_score"
   ]
  },
  {
   "cell_type": "code",
   "execution_count": 25,
   "metadata": {
    "collapsed": true
   },
   "outputs": [],
   "source": [
    "k_fold = KFold(n_splits=10)"
   ]
  },
  {
   "cell_type": "code",
   "execution_count": 26,
   "metadata": {
    "collapsed": true
   },
   "outputs": [],
   "source": [
    "lr_model = LogisticRegression()"
   ]
  },
  {
   "cell_type": "code",
   "execution_count": 27,
   "metadata": {
    "collapsed": true
   },
   "outputs": [],
   "source": [
    "kf_scores = np.array([])"
   ]
  },
  {
   "cell_type": "code",
   "execution_count": 28,
   "metadata": {
    "collapsed": true
   },
   "outputs": [],
   "source": [
    "for train, test in k_fold.split(X):\n",
    "    temp = lr_model.fit(X.iloc[train, :], Y[train]).score(X.iloc[test, :], Y[test])\n",
    "    kf_scores = np.append(kf_scores, temp)"
   ]
  },
  {
   "cell_type": "code",
   "execution_count": 29,
   "metadata": {
    "collapsed": false
   },
   "outputs": [
    {
     "data": {
      "text/plain": [
       "0.7997081551108061"
      ]
     },
     "execution_count": 29,
     "metadata": {},
     "output_type": "execute_result"
    }
   ],
   "source": [
    "kf_scores.mean()"
   ]
  },
  {
   "cell_type": "code",
   "execution_count": null,
   "metadata": {
    "collapsed": true
   },
   "outputs": [],
   "source": []
  },
  {
   "cell_type": "markdown",
   "metadata": {
    "collapsed": true
   },
   "source": [
    "## with PCA"
   ]
  },
  {
   "cell_type": "code",
   "execution_count": 30,
   "metadata": {
    "collapsed": true
   },
   "outputs": [],
   "source": [
    "from sklearn.decomposition import PCA"
   ]
  },
  {
   "cell_type": "code",
   "execution_count": 31,
   "metadata": {
    "collapsed": true
   },
   "outputs": [],
   "source": [
    "def run_pca(num, folds):\n",
    "    pca = PCA(n_components=num)\n",
    "    principalComponents = pca.fit_transform(X)\n",
    "\n",
    "    pcaDF = pd.DataFrame(data = principalComponents)\n",
    "    pca_scores = np.array([])\n",
    "    k_fold = KFold(n_splits=folds)\n",
    "    for train, test in k_fold.split(pcaDF):\n",
    "        temp = lr_model.fit(pcaDF.iloc[train, :], Y[train]).score(pcaDF.iloc[test, :], Y[test])\n",
    "        pca_scores = np.append(pca_scores, temp)\n",
    "#     print(pca_scores)\n",
    "#     print(pca_scores.mean())\n",
    "    return pca_scores.mean()"
   ]
  },
  {
   "cell_type": "code",
   "execution_count": 32,
   "metadata": {
    "collapsed": false
   },
   "outputs": [],
   "source": [
    "pca_mean = []\n",
    "for n in range(5, 65, 5):\n",
    "    for f in range(5, 11):\n",
    "#         print(\"--- # of components: {} with {} folds ---\".format(n, f))\n",
    "        pca_mean.append(run_pca(n, f))"
   ]
  },
  {
   "cell_type": "code",
   "execution_count": 33,
   "metadata": {
    "collapsed": false
   },
   "outputs": [],
   "source": [
    "x = np.reshape(pca_mean, (12, 6))\n",
    "x_df = pd.DataFrame(x)\n",
    "x_df.columns = ['5 fold', '6 fold', '7 fold', '8 fold', '9 fold', '10 fold']"
   ]
  },
  {
   "cell_type": "code",
   "execution_count": 34,
   "metadata": {
    "collapsed": false
   },
   "outputs": [
    {
     "data": {
      "text/html": [
       "<div>\n",
       "<style scoped>\n",
       "    .dataframe tbody tr th:only-of-type {\n",
       "        vertical-align: middle;\n",
       "    }\n",
       "\n",
       "    .dataframe tbody tr th {\n",
       "        vertical-align: top;\n",
       "    }\n",
       "\n",
       "    .dataframe thead th {\n",
       "        text-align: right;\n",
       "    }\n",
       "</style>\n",
       "<table border=\"1\" class=\"dataframe\">\n",
       "  <thead>\n",
       "    <tr style=\"text-align: right;\">\n",
       "      <th></th>\n",
       "      <th>5 fold</th>\n",
       "      <th>6 fold</th>\n",
       "      <th>7 fold</th>\n",
       "      <th>8 fold</th>\n",
       "      <th>9 fold</th>\n",
       "      <th>10 fold</th>\n",
       "    </tr>\n",
       "    <tr>\n",
       "      <th>component</th>\n",
       "      <th></th>\n",
       "      <th></th>\n",
       "      <th></th>\n",
       "      <th></th>\n",
       "      <th></th>\n",
       "      <th></th>\n",
       "    </tr>\n",
       "  </thead>\n",
       "  <tbody>\n",
       "    <tr>\n",
       "      <th>5</th>\n",
       "      <td>0.316834</td>\n",
       "      <td>0.379474</td>\n",
       "      <td>0.465767</td>\n",
       "      <td>0.394388</td>\n",
       "      <td>0.455329</td>\n",
       "      <td>0.525243</td>\n",
       "    </tr>\n",
       "    <tr>\n",
       "      <th>10</th>\n",
       "      <td>0.673546</td>\n",
       "      <td>0.695752</td>\n",
       "      <td>0.719677</td>\n",
       "      <td>0.717086</td>\n",
       "      <td>0.734820</td>\n",
       "      <td>0.736576</td>\n",
       "    </tr>\n",
       "    <tr>\n",
       "      <th>15</th>\n",
       "      <td>0.732616</td>\n",
       "      <td>0.745406</td>\n",
       "      <td>0.766337</td>\n",
       "      <td>0.751333</td>\n",
       "      <td>0.760334</td>\n",
       "      <td>0.775804</td>\n",
       "    </tr>\n",
       "    <tr>\n",
       "      <th>20</th>\n",
       "      <td>0.761656</td>\n",
       "      <td>0.777587</td>\n",
       "      <td>0.775840</td>\n",
       "      <td>0.780065</td>\n",
       "      <td>0.781636</td>\n",
       "      <td>0.794423</td>\n",
       "    </tr>\n",
       "    <tr>\n",
       "      <th>25</th>\n",
       "      <td>0.755602</td>\n",
       "      <td>0.774522</td>\n",
       "      <td>0.780210</td>\n",
       "      <td>0.779375</td>\n",
       "      <td>0.783932</td>\n",
       "      <td>0.792433</td>\n",
       "    </tr>\n",
       "    <tr>\n",
       "      <th>30</th>\n",
       "      <td>0.759281</td>\n",
       "      <td>0.765787</td>\n",
       "      <td>0.786183</td>\n",
       "      <td>0.765894</td>\n",
       "      <td>0.781023</td>\n",
       "      <td>0.783084</td>\n",
       "    </tr>\n",
       "    <tr>\n",
       "      <th>35</th>\n",
       "      <td>0.769850</td>\n",
       "      <td>0.750152</td>\n",
       "      <td>0.785801</td>\n",
       "      <td>0.783819</td>\n",
       "      <td>0.795882</td>\n",
       "      <td>0.786837</td>\n",
       "    </tr>\n",
       "    <tr>\n",
       "      <th>40</th>\n",
       "      <td>0.759054</td>\n",
       "      <td>0.780878</td>\n",
       "      <td>0.792849</td>\n",
       "      <td>0.788721</td>\n",
       "      <td>0.795190</td>\n",
       "      <td>0.805839</td>\n",
       "    </tr>\n",
       "    <tr>\n",
       "      <th>45</th>\n",
       "      <td>0.761655</td>\n",
       "      <td>0.773527</td>\n",
       "      <td>0.796985</td>\n",
       "      <td>0.789182</td>\n",
       "      <td>0.793508</td>\n",
       "      <td>0.792506</td>\n",
       "    </tr>\n",
       "    <tr>\n",
       "      <th>50</th>\n",
       "      <td>0.768394</td>\n",
       "      <td>0.781185</td>\n",
       "      <td>0.787945</td>\n",
       "      <td>0.777999</td>\n",
       "      <td>0.792051</td>\n",
       "      <td>0.797334</td>\n",
       "    </tr>\n",
       "    <tr>\n",
       "      <th>55</th>\n",
       "      <td>0.766023</td>\n",
       "      <td>0.786855</td>\n",
       "      <td>0.793996</td>\n",
       "      <td>0.788109</td>\n",
       "      <td>0.798182</td>\n",
       "      <td>0.801089</td>\n",
       "    </tr>\n",
       "    <tr>\n",
       "      <th>60</th>\n",
       "      <td>0.768090</td>\n",
       "      <td>0.769616</td>\n",
       "      <td>0.791470</td>\n",
       "      <td>0.791938</td>\n",
       "      <td>0.784469</td>\n",
       "      <td>0.783924</td>\n",
       "    </tr>\n",
       "  </tbody>\n",
       "</table>\n",
       "</div>"
      ],
      "text/plain": [
       "             5 fold    6 fold    7 fold    8 fold    9 fold   10 fold\n",
       "component                                                            \n",
       "5          0.316834  0.379474  0.465767  0.394388  0.455329  0.525243\n",
       "10         0.673546  0.695752  0.719677  0.717086  0.734820  0.736576\n",
       "15         0.732616  0.745406  0.766337  0.751333  0.760334  0.775804\n",
       "20         0.761656  0.777587  0.775840  0.780065  0.781636  0.794423\n",
       "25         0.755602  0.774522  0.780210  0.779375  0.783932  0.792433\n",
       "30         0.759281  0.765787  0.786183  0.765894  0.781023  0.783084\n",
       "35         0.769850  0.750152  0.785801  0.783819  0.795882  0.786837\n",
       "40         0.759054  0.780878  0.792849  0.788721  0.795190  0.805839\n",
       "45         0.761655  0.773527  0.796985  0.789182  0.793508  0.792506\n",
       "50         0.768394  0.781185  0.787945  0.777999  0.792051  0.797334\n",
       "55         0.766023  0.786855  0.793996  0.788109  0.798182  0.801089\n",
       "60         0.768090  0.769616  0.791470  0.791938  0.784469  0.783924"
      ]
     },
     "execution_count": 34,
     "metadata": {},
     "output_type": "execute_result"
    }
   ],
   "source": [
    "x_df['component'] = np.array(list(range(5, 65, 5)))\n",
    "x_df.set_index('component')"
   ]
  },
  {
   "cell_type": "code",
   "execution_count": null,
   "metadata": {
    "collapsed": true
   },
   "outputs": [],
   "source": []
  },
  {
   "cell_type": "code",
   "execution_count": 35,
   "metadata": {
    "collapsed": false
   },
   "outputs": [
    {
     "data": {
      "text/plain": [
       "<matplotlib.legend.Legend at 0x11d8c2e50>"
      ]
     },
     "execution_count": 35,
     "metadata": {},
     "output_type": "execute_result"
    },
    {
     "data": {
      "image/png": "[encoded data removed]",
      "text/plain": [
       "<Figure size 864x432 with 1 Axes>"
      ]
     },
     "metadata": {},
     "output_type": "display_data"
    }
   ],
   "source": [
    "plt.figure(figsize=(12,6))\n",
    "for col in x_df.columns[0:-1]:\n",
    "    plt.scatter(x_df['component'], x_df[col], s=50)\n",
    "plt.legend(numpoints=1)"
   ]
  },
  {
   "cell_type": "code",
   "execution_count": null,
   "metadata": {
    "collapsed": true
   },
   "outputs": [],
   "source": []
  },
  {
   "cell_type": "code",
   "execution_count": 36,
   "metadata": {
    "collapsed": false
   },
   "outputs": [
    {
     "data": {
      "text/plain": [
       "<matplotlib.legend.Legend at 0x11d8c2d90>"
      ]
     },
     "execution_count": 36,
     "metadata": {},
     "output_type": "execute_result"
    },
    {
     "data": {
      "image/png": "[encoded data removed]",
      "text/plain": [
       "<Figure size 864x432 with 1 Axes>"
      ]
     },
     "metadata": {},
     "output_type": "display_data"
    }
   ],
   "source": [
    "plt.figure(figsize=(12,6))\n",
    "for col in x_df.columns[0:-1]:\n",
    "    plt.plot(x_df['component'], x_df[col], '-o')\n",
    "plt.legend(numpoints=1)"
   ]
  },
  {
   "cell_type": "code",
   "execution_count": null,
   "metadata": {
    "collapsed": true
   },
   "outputs": [],
   "source": []
  },
  {
   "cell_type": "code",
   "execution_count": null,
   "metadata": {
    "collapsed": true
   },
   "outputs": [],
   "source": []
  },
  {
   "cell_type": "code",
   "execution_count": null,
   "metadata": {
    "collapsed": true
   },
   "outputs": [],
   "source": []
  },
  {
   "cell_type": "code",
   "execution_count": null,
   "metadata": {
    "collapsed": true
   },
   "outputs": [],
   "source": []
  }
 ],
 "metadata": {
  "kernelspec": {
   "display_name": "Python 2",
   "language": "python",
   "name": "python2"
  },
  "language_info": {
   "codemirror_mode": {
    "name": "ipython",
    "version": 2
   },
   "file_extension": ".py",
   "mimetype": "text/x-python",
   "name": "python",
   "nbconvert_exporter": "python",
   "pygments_lexer": "ipython2",
   "version": "2.7.11"
  }
 },
 "nbformat": 4,
 "nbformat_minor": 2
}
